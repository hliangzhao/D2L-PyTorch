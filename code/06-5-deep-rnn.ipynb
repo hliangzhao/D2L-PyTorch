{
 "cells": [
  {
   "cell_type": "markdown",
   "metadata": {},
   "source": [
    "## 深度循环神经网络"
   ]
  },
  {
   "cell_type": "markdown",
   "metadata": {},
   "source": [
    "本章到目前为止介绍的循环神经网络只有一个单向的隐藏层，在深度学习应用里，我们通常会用到含有多个隐藏层的循环神经网络，也称作深度循环神经网络。下图演示了一个有$L$个隐藏层的深度循环神经网络，每个隐藏状态不断传递至当前层的下一时间步和当前时间步的下一层。\n",
    "\n",
    "![avatar](../resource/deep-rnn.svg)"
   ]
  },
  {
   "cell_type": "markdown",
   "metadata": {},
   "source": [
    "在时间步$t$，设小批量输入为$X_t \\in \\mathbb{R}^{n \\times d}$，第$l$个隐藏层（$l=1, ..., L$）的隐藏状态为$H_t^{(l)} \\in \\mathbb{R}^{n \\times h}$，输出变量为$O_t \\in \\mathbb{R}^{n \\times q}$，且隐藏层的激活函数为$\\phi$。\n",
    "\n",
    "则第1个隐藏层的隐藏状态的计算和之前一样：\n",
    "\n",
    "$$\n",
    "H_t^{(1)} = \\phi (X_t W_{xh}^{(1)} + H_{t-1}^{(1)}{W_{hh}^{(1)}} + \\vec{b}_h^{(1)}).\n",
    "$$\n",
    "\n",
    "对于后续隐藏层，\n",
    "\n",
    "$$\n",
    "H_t^{(l)} = \\phi (H_t^{(l-1)} W_{xh}^{(l)} + H_{t-1}^{(l)}{W_{hh}^{(l)}} + \\vec{b}_h^{(l)}).\n",
    "$$\n",
    "\n",
    "注意$W_{xh}^{(1)} \\in \\mathbb{R}^{d \\times h}$，$\\forall l = 2, ..., L: W_{xh}^{(l)} \\in \\mathbb{R}^{h \\times h}$。"
   ]
  },
  {
   "cell_type": "markdown",
   "metadata": {},
   "source": [
    "输出层变量仅依赖于最后一层隐藏状态：\n",
    "\n",
    "$$\n",
    "O_t = H_t^{(L)} W_{hq} + b_q.\n",
    "$$"
   ]
  }
 ],
 "metadata": {
  "kernelspec": {
   "display_name": "Python 3",
   "language": "python",
   "name": "python3"
  },
  "language_info": {
   "codemirror_mode": {
    "name": "ipython",
    "version": 3
   },
   "file_extension": ".py",
   "mimetype": "text/x-python",
   "name": "python",
   "nbconvert_exporter": "python",
   "pygments_lexer": "ipython3",
   "version": "3.7.9"
  }
 },
 "nbformat": 4,
 "nbformat_minor": 4
}
