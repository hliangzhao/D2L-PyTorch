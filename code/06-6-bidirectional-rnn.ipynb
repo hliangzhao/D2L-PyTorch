{
 "cells": [
  {
   "cell_type": "markdown",
   "metadata": {},
   "source": [
    "## 双向循环神经网络"
   ]
  },
  {
   "cell_type": "markdown",
   "metadata": {},
   "source": [
    "之前介绍的循环神经网络模型都是假设当前时间步是由前面的较早时间步的序列决定的，因此它们都将信息通过隐藏状态从前往后传递。有时候，当前时间步也可能由后面时间步决定。例如，当我们写下一个句子时，可能会根据句子后面的词来修改句子前面的用词。双向循环神经网络通过增加从后往前传递信息的隐藏层来更灵活地处理这类信息。下图演示了一个含单隐藏层的双向循环神经网络的架构：\n",
    "\n",
    "![avatar](../resource/birnn.svg)"
   ]
  },
  {
   "cell_type": "markdown",
   "metadata": {},
   "source": [
    "给定时间步$t$的小批量输入$X_t \\in \\mathbb{R}^{n \\times d}$和隐藏层激活函数$\\phi$。设时间步正向隐藏状态为$\\overrightarrow{H}_t \\in \\mathbb{R}^{n \\times h}$，反向隐藏状态为$\\overleftarrow{H}_t \\in \\mathbb{R}^{n \\times h}$，分别按如下方式计算：\n",
    "\n",
    "$$\n",
    "\\overrightarrow{H}_t = \\phi \\Big(X_t W_{xh}^{(f)} + \\overrightarrow{H}_{t-1} W_{hh}^{(f)} + \\vec{b}_h^{(f)}\\Big)\\\\\n",
    "\\overleftarrow{H}_t = \\phi \\Big(X_t W_{xh}^{(b)} + \\overleftarrow{H}_{t+1} W_{hh}^{(b)} + \\vec{b}_h^{(b)}\\Big).\n",
    "$$\n",
    "\n",
    "两个方向上的隐藏单元个数也可以不同。"
   ]
  },
  {
   "cell_type": "markdown",
   "metadata": {},
   "source": [
    "连接两个方向的隐藏状态$\\overrightarrow{H}_t$和$\\overleftarrow{H}_t$得到$H_t \\in \\mathbb{R}^{n \\times 2h}$，传递给输出层：\n",
    "\n",
    "$$\n",
    "O_t = H_t W_{hq} + \\vec{b}_q \\in \\mathbb{R}^{n \\times q}.\n",
    "$$"
   ]
  }
 ],
 "metadata": {
  "kernelspec": {
   "display_name": "Python 3",
   "language": "python",
   "name": "python3"
  },
  "language_info": {
   "codemirror_mode": {
    "name": "ipython",
    "version": 3
   },
   "file_extension": ".py",
   "mimetype": "text/x-python",
   "name": "python",
   "nbconvert_exporter": "python",
   "pygments_lexer": "ipython3",
   "version": "3.7.9"
  }
 },
 "nbformat": 4,
 "nbformat_minor": 4
}
